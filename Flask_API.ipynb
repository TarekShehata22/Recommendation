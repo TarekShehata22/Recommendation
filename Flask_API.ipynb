{
 "cells": [
  {
   "cell_type": "code",
   "execution_count": null,
   "id": "d79bb17f",
   "metadata": {},
   "outputs": [
    {
     "name": "stdout",
     "output_type": "stream",
     "text": [
      " * Serving Flask app \"__main__\" (lazy loading)\n",
      " * Environment: production\n",
      "\u001b[31m   WARNING: This is a development server. Do not use it in a production deployment.\u001b[0m\n",
      "\u001b[2m   Use a production WSGI server instead.\u001b[0m\n",
      " * Debug mode: on\n"
     ]
    },
    {
     "name": "stderr",
     "output_type": "stream",
     "text": [
      " * Running on http://127.0.0.1:5000/ (Press CTRL+C to quit)\n",
      "127.0.0.1 - - [01/May/2024 21:18:49] \"POST /recommend?book_name=Tropic%20of%20Cancer HTTP/1.1\" 200 -\n"
     ]
    }
   ],
   "source": [
    "from flask import Flask, request, jsonify\n",
    "import numpy as np\n",
    "import pandas as pd\n",
    "import difflib\n",
    "from sklearn.feature_extraction.text import TfidfVectorizer\n",
    "from sklearn.metrics.pairwise import cosine_similarity\n",
    "\n",
    "app = Flask(__name__)\n",
    "\n",
    "# Load the dataset\n",
    "df = pd.read_csv(\"C:/Users/Taroo2/Music/Private/King_Of_Hell/Route_Ai/Works/Model/data.csv\")\n",
    "\n",
    "# Preprocess the data\n",
    "selected_features = ['title', 'authors', 'categories', 'published_year']\n",
    "for feature in selected_features:\n",
    "    df[feature] = df[feature].fillna('')\n",
    "combined_features = df['title'] + ' ' + df['categories'] + ' ' + df['authors'] + ' ' + f\"{df['published_year']}\"\n",
    "vectorizer = TfidfVectorizer()\n",
    "feature_vectors = vectorizer.fit_transform(combined_features)\n",
    "similarity = cosine_similarity(feature_vectors, feature_vectors)\n",
    "\n",
    "# Endpoint for recommending books\n",
    "@app.route('/recommend', methods=['GET', 'POST'])\n",
    "def recommend_books():\n",
    "    if request.method == 'GET':\n",
    "        book_name = request.args.get('book_name', '')\n",
    "    elif request.method == 'POST':\n",
    "        book_name = request.args.get('book_name', '')\n",
    "    else:\n",
    "        return jsonify({'error': 'Unsupported HTTP method.'}), 405\n",
    "\n",
    "    if not book_name:\n",
    "        return jsonify({'error': 'Please provide a book name.'}), 400\n",
    "    \n",
    "    list_of_all_titles = df['title'].tolist()\n",
    "    find_close_match = difflib.get_close_matches(book_name, list_of_all_titles)\n",
    "    if not find_close_match:\n",
    "        return jsonify({'error': 'No close match found for the provided book name.'}), 404\n",
    "    \n",
    "    close_match = find_close_match[0]\n",
    "    index_of_the_book = df[df.title == close_match].index[0]\n",
    "    similarity_score = list(enumerate(similarity[index_of_the_book]))\n",
    "    sorted_similar_books = sorted(similarity_score, key=lambda x: x[1], reverse=True)[:29]\n",
    "    \n",
    "    recommended_books = []\n",
    "    for book in sorted_similar_books:\n",
    "        index = book[0]\n",
    "        title_from_index = df[df.index == index]['title'].values[0]\n",
    "        recommended_books.append({'title': title_from_index})\n",
    "    \n",
    "    return jsonify({'recommended_books': recommended_books}), 200\n",
    "\n",
    "\n",
    "\n",
    "if __name__ == '__main__':\n",
    "    app.run(debug=True, use_reloader=False)\n"
   ]
  },
  {
   "cell_type": "code",
   "execution_count": null,
   "id": "d1ff87be",
   "metadata": {},
   "outputs": [],
   "source": []
  }
 ],
 "metadata": {
  "kernelspec": {
   "display_name": "Python 3 (ipykernel)",
   "language": "python",
   "name": "python3"
  },
  "language_info": {
   "codemirror_mode": {
    "name": "ipython",
    "version": 3
   },
   "file_extension": ".py",
   "mimetype": "text/x-python",
   "name": "python",
   "nbconvert_exporter": "python",
   "pygments_lexer": "ipython3",
   "version": "3.9.13"
  }
 },
 "nbformat": 4,
 "nbformat_minor": 5
}
